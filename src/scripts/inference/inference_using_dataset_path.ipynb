{
 "cells": [
  {
   "cell_type": "markdown",
   "metadata": {},
   "source": [
    "install requirements using : src/pipeline/inference/requirements.txt"
   ]
  },
  {
   "cell_type": "code",
   "execution_count": 2,
   "metadata": {},
   "outputs": [],
   "source": [
    "dataset_folder_path = \"\"\n",
    "name_for_model = \"\"\n",
    "query = \"\""
   ]
  },
  {
   "cell_type": "code",
   "execution_count": 3,
   "metadata": {},
   "outputs": [],
   "source": [
    "import sys\n",
    "from src.scripts.scraping.create_faiss_index import CreateFaissIndex\n",
    "\n",
    "input_data = {}\n",
    "input_data['name'] = name_for_model\n",
    "input_data['dataset_folder'] = dataset_folder_path\n",
    "cfi = CreateFaissIndex(input_data)\n",
    "cfi.create_faiss_index() # this will take atleast 5-10 minutes or more depending on data"
   ]
  },
  {
   "cell_type": "code",
   "execution_count": 5,
   "metadata": {},
   "outputs": [
    {
     "name": "stdout",
     "output_type": "stream",
     "text": [
      "{\n",
      "\"method\": \"get_attachments_for_submittal\",\n",
      "\"attributes\": {\n",
      "\"project_name\": \"\",\n",
      "\"item_name\": \"submittal1\"\n",
      "}\n",
      "}\n"
     ]
    }
   ],
   "source": [
    "from src.scripts.inference.inference import Inference\n",
    "\n",
    "input_data = {}\n",
    "input_data['name'] = name_for_model\n",
    "input_data['prompt'] = query\n",
    "\n",
    "i = Inference(input_data)\n",
    "response  = i.response_main()\n",
    "print(response)"
   ]
  }
 ],
 "metadata": {
  "kernelspec": {
   "display_name": "env",
   "language": "python",
   "name": "python3"
  },
  "language_info": {
   "codemirror_mode": {
    "name": "ipython",
    "version": 3
   },
   "file_extension": ".py",
   "mimetype": "text/x-python",
   "name": "python",
   "nbconvert_exporter": "python",
   "pygments_lexer": "ipython3",
   "version": "3.10.11"
  },
  "orig_nbformat": 4
 },
 "nbformat": 4,
 "nbformat_minor": 2
}
